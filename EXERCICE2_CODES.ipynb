{
 "cells": [
  {
   "cell_type": "markdown",
   "metadata": {},
   "source": [
    "#                                   EXERCICE 1"
   ]
  },
  {
   "cell_type": "markdown",
   "metadata": {},
   "source": [
    "# importation des librairies"
   ]
  },
  {
   "cell_type": "code",
   "execution_count": 96,
   "metadata": {},
   "outputs": [],
   "source": [
    "import numpy as np \n",
    "import matplotlib.pyplot as plt \n",
    "import pandas as pd \n",
    "from sklearn.datasets import load_boston \n",
    "from sklearn.model_selection import train_test_split\n",
    "from sklearn import linear_model"
   ]
  },
  {
   "cell_type": "markdown",
   "metadata": {},
   "source": [
    "# importation  et observation du dataset load_boston"
   ]
  },
  {
   "cell_type": "code",
   "execution_count": 97,
   "metadata": {},
   "outputs": [
    {
     "name": "stdout",
     "output_type": "stream",
     "text": [
      "{'data': array([[6.3200e-03, 1.8000e+01, 2.3100e+00, ..., 1.5300e+01, 3.9690e+02,\n",
      "        4.9800e+00],\n",
      "       [2.7310e-02, 0.0000e+00, 7.0700e+00, ..., 1.7800e+01, 3.9690e+02,\n",
      "        9.1400e+00],\n",
      "       [2.7290e-02, 0.0000e+00, 7.0700e+00, ..., 1.7800e+01, 3.9283e+02,\n",
      "        4.0300e+00],\n",
      "       ...,\n",
      "       [6.0760e-02, 0.0000e+00, 1.1930e+01, ..., 2.1000e+01, 3.9690e+02,\n",
      "        5.6400e+00],\n",
      "       [1.0959e-01, 0.0000e+00, 1.1930e+01, ..., 2.1000e+01, 3.9345e+02,\n",
      "        6.4800e+00],\n",
      "       [4.7410e-02, 0.0000e+00, 1.1930e+01, ..., 2.1000e+01, 3.9690e+02,\n",
      "        7.8800e+00]]), 'target': array([24. , 21.6, 34.7, 33.4, 36.2, 28.7, 22.9, 27.1, 16.5, 18.9, 15. ,\n",
      "       18.9, 21.7, 20.4, 18.2, 19.9, 23.1, 17.5, 20.2, 18.2, 13.6, 19.6,\n",
      "       15.2, 14.5, 15.6, 13.9, 16.6, 14.8, 18.4, 21. , 12.7, 14.5, 13.2,\n",
      "       13.1, 13.5, 18.9, 20. , 21. , 24.7, 30.8, 34.9, 26.6, 25.3, 24.7,\n",
      "       21.2, 19.3, 20. , 16.6, 14.4, 19.4, 19.7, 20.5, 25. , 23.4, 18.9,\n",
      "       35.4, 24.7, 31.6, 23.3, 19.6, 18.7, 16. , 22.2, 25. , 33. , 23.5,\n",
      "       19.4, 22. , 17.4, 20.9, 24.2, 21.7, 22.8, 23.4, 24.1, 21.4, 20. ,\n",
      "       20.8, 21.2, 20.3, 28. , 23.9, 24.8, 22.9, 23.9, 26.6, 22.5, 22.2,\n",
      "       23.6, 28.7, 22.6, 22. , 22.9, 25. , 20.6, 28.4, 21.4, 38.7, 43.8,\n",
      "       33.2, 27.5, 26.5, 18.6, 19.3, 20.1, 19.5, 19.5, 20.4, 19.8, 19.4,\n",
      "       21.7, 22.8, 18.8, 18.7, 18.5, 18.3, 21.2, 19.2, 20.4, 19.3, 22. ,\n",
      "       20.3, 20.5, 17.3, 18.8, 21.4, 15.7, 16.2, 18. , 14.3, 19.2, 19.6,\n",
      "       23. , 18.4, 15.6, 18.1, 17.4, 17.1, 13.3, 17.8, 14. , 14.4, 13.4,\n",
      "       15.6, 11.8, 13.8, 15.6, 14.6, 17.8, 15.4, 21.5, 19.6, 15.3, 19.4,\n",
      "       17. , 15.6, 13.1, 41.3, 24.3, 23.3, 27. , 50. , 50. , 50. , 22.7,\n",
      "       25. , 50. , 23.8, 23.8, 22.3, 17.4, 19.1, 23.1, 23.6, 22.6, 29.4,\n",
      "       23.2, 24.6, 29.9, 37.2, 39.8, 36.2, 37.9, 32.5, 26.4, 29.6, 50. ,\n",
      "       32. , 29.8, 34.9, 37. , 30.5, 36.4, 31.1, 29.1, 50. , 33.3, 30.3,\n",
      "       34.6, 34.9, 32.9, 24.1, 42.3, 48.5, 50. , 22.6, 24.4, 22.5, 24.4,\n",
      "       20. , 21.7, 19.3, 22.4, 28.1, 23.7, 25. , 23.3, 28.7, 21.5, 23. ,\n",
      "       26.7, 21.7, 27.5, 30.1, 44.8, 50. , 37.6, 31.6, 46.7, 31.5, 24.3,\n",
      "       31.7, 41.7, 48.3, 29. , 24. , 25.1, 31.5, 23.7, 23.3, 22. , 20.1,\n",
      "       22.2, 23.7, 17.6, 18.5, 24.3, 20.5, 24.5, 26.2, 24.4, 24.8, 29.6,\n",
      "       42.8, 21.9, 20.9, 44. , 50. , 36. , 30.1, 33.8, 43.1, 48.8, 31. ,\n",
      "       36.5, 22.8, 30.7, 50. , 43.5, 20.7, 21.1, 25.2, 24.4, 35.2, 32.4,\n",
      "       32. , 33.2, 33.1, 29.1, 35.1, 45.4, 35.4, 46. , 50. , 32.2, 22. ,\n",
      "       20.1, 23.2, 22.3, 24.8, 28.5, 37.3, 27.9, 23.9, 21.7, 28.6, 27.1,\n",
      "       20.3, 22.5, 29. , 24.8, 22. , 26.4, 33.1, 36.1, 28.4, 33.4, 28.2,\n",
      "       22.8, 20.3, 16.1, 22.1, 19.4, 21.6, 23.8, 16.2, 17.8, 19.8, 23.1,\n",
      "       21. , 23.8, 23.1, 20.4, 18.5, 25. , 24.6, 23. , 22.2, 19.3, 22.6,\n",
      "       19.8, 17.1, 19.4, 22.2, 20.7, 21.1, 19.5, 18.5, 20.6, 19. , 18.7,\n",
      "       32.7, 16.5, 23.9, 31.2, 17.5, 17.2, 23.1, 24.5, 26.6, 22.9, 24.1,\n",
      "       18.6, 30.1, 18.2, 20.6, 17.8, 21.7, 22.7, 22.6, 25. , 19.9, 20.8,\n",
      "       16.8, 21.9, 27.5, 21.9, 23.1, 50. , 50. , 50. , 50. , 50. , 13.8,\n",
      "       13.8, 15. , 13.9, 13.3, 13.1, 10.2, 10.4, 10.9, 11.3, 12.3,  8.8,\n",
      "        7.2, 10.5,  7.4, 10.2, 11.5, 15.1, 23.2,  9.7, 13.8, 12.7, 13.1,\n",
      "       12.5,  8.5,  5. ,  6.3,  5.6,  7.2, 12.1,  8.3,  8.5,  5. , 11.9,\n",
      "       27.9, 17.2, 27.5, 15. , 17.2, 17.9, 16.3,  7. ,  7.2,  7.5, 10.4,\n",
      "        8.8,  8.4, 16.7, 14.2, 20.8, 13.4, 11.7,  8.3, 10.2, 10.9, 11. ,\n",
      "        9.5, 14.5, 14.1, 16.1, 14.3, 11.7, 13.4,  9.6,  8.7,  8.4, 12.8,\n",
      "       10.5, 17.1, 18.4, 15.4, 10.8, 11.8, 14.9, 12.6, 14.1, 13. , 13.4,\n",
      "       15.2, 16.1, 17.8, 14.9, 14.1, 12.7, 13.5, 14.9, 20. , 16.4, 17.7,\n",
      "       19.5, 20.2, 21.4, 19.9, 19. , 19.1, 19.1, 20.1, 19.9, 19.6, 23.2,\n",
      "       29.8, 13.8, 13.3, 16.7, 12. , 14.6, 21.4, 23. , 23.7, 25. , 21.8,\n",
      "       20.6, 21.2, 19.1, 20.6, 15.2,  7. ,  8.1, 13.6, 20.1, 21.8, 24.5,\n",
      "       23.1, 19.7, 18.3, 21.2, 17.5, 16.8, 22.4, 20.6, 23.9, 22. , 11.9]), 'feature_names': array(['CRIM', 'ZN', 'INDUS', 'CHAS', 'NOX', 'RM', 'AGE', 'DIS', 'RAD',\n",
      "       'TAX', 'PTRATIO', 'B', 'LSTAT'], dtype='<U7'), 'DESCR': \".. _boston_dataset:\\n\\nBoston house prices dataset\\n---------------------------\\n\\n**Data Set Characteristics:**  \\n\\n    :Number of Instances: 506 \\n\\n    :Number of Attributes: 13 numeric/categorical predictive. Median Value (attribute 14) is usually the target.\\n\\n    :Attribute Information (in order):\\n        - CRIM     per capita crime rate by town\\n        - ZN       proportion of residential land zoned for lots over 25,000 sq.ft.\\n        - INDUS    proportion of non-retail business acres per town\\n        - CHAS     Charles River dummy variable (= 1 if tract bounds river; 0 otherwise)\\n        - NOX      nitric oxides concentration (parts per 10 million)\\n        - RM       average number of rooms per dwelling\\n        - AGE      proportion of owner-occupied units built prior to 1940\\n        - DIS      weighted distances to five Boston employment centres\\n        - RAD      index of accessibility to radial highways\\n        - TAX      full-value property-tax rate per $10,000\\n        - PTRATIO  pupil-teacher ratio by town\\n        - B        1000(Bk - 0.63)^2 where Bk is the proportion of blacks by town\\n        - LSTAT    % lower status of the population\\n        - MEDV     Median value of owner-occupied homes in $1000's\\n\\n    :Missing Attribute Values: None\\n\\n    :Creator: Harrison, D. and Rubinfeld, D.L.\\n\\nThis is a copy of UCI ML housing dataset.\\nhttps://archive.ics.uci.edu/ml/machine-learning-databases/housing/\\n\\n\\nThis dataset was taken from the StatLib library which is maintained at Carnegie Mellon University.\\n\\nThe Boston house-price data of Harrison, D. and Rubinfeld, D.L. 'Hedonic\\nprices and the demand for clean air', J. Environ. Economics & Management,\\nvol.5, 81-102, 1978.   Used in Belsley, Kuh & Welsch, 'Regression diagnostics\\n...', Wiley, 1980.   N.B. Various transformations are used in the table on\\npages 244-261 of the latter.\\n\\nThe Boston house-price data has been used in many machine learning papers that address regression\\nproblems.   \\n     \\n.. topic:: References\\n\\n   - Belsley, Kuh & Welsch, 'Regression diagnostics: Identifying Influential Data and Sources of Collinearity', Wiley, 1980. 244-261.\\n   - Quinlan,R. (1993). Combining Instance-Based and Model-Based Learning. In Proceedings on the Tenth International Conference of Machine Learning, 236-243, University of Massachusetts, Amherst. Morgan Kaufmann.\\n\", 'filename': 'C:\\\\ProgramData\\\\Anaconda3\\\\lib\\\\site-packages\\\\sklearn\\\\datasets\\\\data\\\\boston_house_prices.csv'}\n"
     ]
    }
   ],
   "source": [
    "boston = load_boston() # permet d'importer la base de donnée dans la variable boston\n",
    "print(boston)\n"
   ]
  },
  {
   "cell_type": "code",
   "execution_count": 98,
   "metadata": {},
   "outputs": [],
   "source": [
    "# on recupére la variable data  de notre dataset que l'on va stocker dans la variable x (features)\n",
    "# ensuite  on surnomme ses colonnes par la variable feature_names \n",
    "# ensuite  on recupére la variable target que l'on stock dans la variable y  et en fin on transforme les donnees en\n",
    "#dataframe\n",
    "x = pd.DataFrame(boston.data,columns=boston.feature_names)\n",
    "y = pd.DataFrame(boston.target)\n"
   ]
  },
  {
   "cell_type": "code",
   "execution_count": 99,
   "metadata": {},
   "outputs": [
    {
     "name": "stdout",
     "output_type": "stream",
     "text": [
      "(506, 13)\n",
      "(506, 1)\n"
     ]
    }
   ],
   "source": [
    "# on visualise les  dimensions de notre featurs(x) et de notre target(y)\n",
    "print(x.shape)\n",
    "print(y.shape)"
   ]
  },
  {
   "cell_type": "code",
   "execution_count": 100,
   "metadata": {},
   "outputs": [
    {
     "data": {
      "text/plain": [
       "(506, 14)"
      ]
     },
     "execution_count": 100,
     "metadata": {},
     "output_type": "execute_result"
    }
   ],
   "source": [
    "# on rajoute une colonne de 1 dans notre features \n",
    "x=np.hstack((x,np.ones((x.shape[0],1))))\n",
    "x.shape"
   ]
  },
  {
   "cell_type": "code",
   "execution_count": 101,
   "metadata": {},
   "outputs": [
    {
     "data": {
      "text/plain": [
       "(506, 1)"
      ]
     },
     "execution_count": 101,
     "metadata": {},
     "output_type": "execute_result"
    }
   ],
   "source": [
    "x\n",
    "y.shape\n"
   ]
  },
  {
   "cell_type": "code",
   "execution_count": 102,
   "metadata": {},
   "outputs": [],
   "source": [
    "def regression(x,y):\n",
    "        return  np.linalg.pinv(x.T.dot(x)).dot(x.T).dot(y)\n",
    "        \n",
    "\n",
    "\n"
   ]
  },
  {
   "cell_type": "code",
   "execution_count": 103,
   "metadata": {},
   "outputs": [],
   "source": [
    "alpha = regression(x,y)[0:-1]# recuperation de alpha\n",
    "beta = regression(x, y)[-1]# recuperation de beta "
   ]
  },
  {
   "cell_type": "code",
   "execution_count": 104,
   "metadata": {},
   "outputs": [
    {
     "name": "stdout",
     "output_type": "stream",
     "text": [
      "[[-1.08011358e-01]\n",
      " [ 4.64204584e-02]\n",
      " [ 2.05586264e-02]\n",
      " [ 2.68673382e+00]\n",
      " [-1.77666112e+01]\n",
      " [ 3.80986521e+00]\n",
      " [ 6.92224640e-04]\n",
      " [-1.47556685e+00]\n",
      " [ 3.06049479e-01]\n",
      " [-1.23345939e-02]\n",
      " [-9.52747232e-01]\n",
      " [ 9.31168327e-03]\n",
      " [-5.24758378e-01]]\n",
      " \n",
      "\n",
      "[36.45948839]\n"
     ]
    }
   ],
   "source": [
    "print(alpha)# observation de alpha \n",
    "print(\" \\n\")  \n",
    "print(beta)# observation de beta"
   ]
  },
  {
   "cell_type": "markdown",
   "metadata": {},
   "source": [
    "# Initialisation du modele de  regression lineaire"
   ]
  },
  {
   "cell_type": "code",
   "execution_count": 105,
   "metadata": {},
   "outputs": [],
   "source": [
    "reg = linear_model.LinearRegression().fit(x,y)"
   ]
  },
  {
   "cell_type": "code",
   "execution_count": 106,
   "metadata": {},
   "outputs": [
    {
     "name": "stdout",
     "output_type": "stream",
     "text": [
      "[[-1.08011358e-01  4.64204584e-02  2.05586264e-02  2.68673382e+00\n",
      "  -1.77666112e+01  3.80986521e+00  6.92224640e-04 -1.47556685e+00\n",
      "   3.06049479e-01 -1.23345939e-02 -9.52747232e-01  9.31168327e-03\n",
      "  -5.24758378e-01  0.00000000e+00]]\n"
     ]
    }
   ],
   "source": [
    "print(reg.coef_)"
   ]
  },
  {
   "cell_type": "code",
   "execution_count": 107,
   "metadata": {},
   "outputs": [
    {
     "name": "stdout",
     "output_type": "stream",
     "text": [
      "[36.45948839]\n"
     ]
    }
   ],
   "source": [
    "print(reg.intercept_)"
   ]
  },
  {
   "cell_type": "markdown",
   "metadata": {},
   "source": [
    "# Comparons les vecteurs obtenus avec les attributs coef_ et intercept_"
   ]
  },
  {
   "cell_type": "code",
   "execution_count": 108,
   "metadata": {},
   "outputs": [],
   "source": [
    "# apres comparaison nous avons remarqué que alpha =reg.coef_ et beta=reg.intercept_"
   ]
  },
  {
   "cell_type": "markdown",
   "metadata": {},
   "source": [
    "# Écrire une fonction regress(X, α, β)"
   ]
  },
  {
   "cell_type": "code",
   "execution_count": 109,
   "metadata": {},
   "outputs": [],
   "source": [
    "def regress(X, alpha, beta):\n",
    "    return  np.dot(X,alpha) + beta"
   ]
  },
  {
   "cell_type": "code",
   "execution_count": 110,
   "metadata": {},
   "outputs": [],
   "source": [
    "#variable cible Y\n",
    "\n",
    "#valeur prédite\n",
    "Yp = regress(x,np.transpose(reg.coef_), reg.intercept_)\n",
    "#calcul de l'erreur"
   ]
  },
  {
   "cell_type": "code",
   "execution_count": 111,
   "metadata": {},
   "outputs": [
    {
     "name": "stdout",
     "output_type": "stream",
     "text": [
      "[[30.00384338]\n",
      " [25.02556238]\n",
      " [30.56759672]\n",
      " [28.60703649]\n",
      " [27.94352423]\n",
      " [25.25628446]\n",
      " [23.00180827]\n",
      " [19.53598843]\n",
      " [11.52363685]\n",
      " [18.92026211]\n",
      " [18.99949651]\n",
      " [21.58679568]\n",
      " [20.90652153]\n",
      " [19.55290281]\n",
      " [19.28348205]\n",
      " [19.29748321]\n",
      " [20.52750979]\n",
      " [16.91140135]\n",
      " [16.17801106]\n",
      " [18.40613603]\n",
      " [12.52385753]\n",
      " [17.67103669]\n",
      " [15.83288129]\n",
      " [13.80628535]\n",
      " [15.67833832]\n",
      " [13.38668561]\n",
      " [15.46397655]\n",
      " [14.70847428]\n",
      " [19.54737285]\n",
      " [20.8764282 ]\n",
      " [11.45511759]\n",
      " [18.05923295]\n",
      " [ 8.81105736]\n",
      " [14.28275814]\n",
      " [13.70675891]\n",
      " [23.81463526]\n",
      " [22.34193708]\n",
      " [23.10891142]\n",
      " [22.91502612]\n",
      " [31.35762569]\n",
      " [34.21510225]\n",
      " [28.02056414]\n",
      " [25.20386628]\n",
      " [24.60979273]\n",
      " [22.94149176]\n",
      " [22.09669817]\n",
      " [20.42320032]\n",
      " [18.03655088]\n",
      " [ 9.10655377]\n",
      " [17.20607751]\n",
      " [21.28152535]\n",
      " [23.97222285]\n",
      " [27.6558508 ]\n",
      " [24.04901809]\n",
      " [15.3618477 ]\n",
      " [31.15264947]\n",
      " [24.85686978]\n",
      " [33.10919806]\n",
      " [21.77537987]\n",
      " [21.08493555]\n",
      " [17.8725804 ]\n",
      " [18.51110208]\n",
      " [23.98742856]\n",
      " [22.55408869]\n",
      " [23.37308644]\n",
      " [30.36148358]\n",
      " [25.53056512]\n",
      " [21.11338564]\n",
      " [17.42153786]\n",
      " [20.78483633]\n",
      " [25.20148859]\n",
      " [21.7426577 ]\n",
      " [24.55744957]\n",
      " [24.04295712]\n",
      " [25.50499716]\n",
      " [23.9669302 ]\n",
      " [22.94545403]\n",
      " [23.35699818]\n",
      " [21.26198266]\n",
      " [22.42817373]\n",
      " [28.40576968]\n",
      " [26.99486086]\n",
      " [26.03576297]\n",
      " [25.05873482]\n",
      " [24.78456674]\n",
      " [27.79049195]\n",
      " [22.16853423]\n",
      " [25.89276415]\n",
      " [30.67461827]\n",
      " [30.83110623]\n",
      " [27.1190194 ]\n",
      " [27.41266734]\n",
      " [28.94122762]\n",
      " [29.08105546]\n",
      " [27.03977365]\n",
      " [28.62459949]\n",
      " [24.72744978]\n",
      " [35.78159518]\n",
      " [35.11454587]\n",
      " [32.25102801]\n",
      " [24.58022019]\n",
      " [25.59413475]\n",
      " [19.79013684]\n",
      " [20.31167129]\n",
      " [21.43482591]\n",
      " [18.53994008]\n",
      " [17.18755992]\n",
      " [20.75049026]\n",
      " [22.64829115]\n",
      " [19.7720367 ]\n",
      " [20.64965864]\n",
      " [26.52586744]\n",
      " [20.77323638]\n",
      " [20.71548315]\n",
      " [25.17208881]\n",
      " [20.43025591]\n",
      " [23.37724626]\n",
      " [23.69043261]\n",
      " [20.33578364]\n",
      " [20.79180873]\n",
      " [21.91632071]\n",
      " [22.47107777]\n",
      " [20.55738556]\n",
      " [16.36661977]\n",
      " [20.56099819]\n",
      " [22.48178446]\n",
      " [14.61706633]\n",
      " [15.17876684]\n",
      " [18.93868592]\n",
      " [14.05573285]\n",
      " [20.03527399]\n",
      " [19.41013402]\n",
      " [20.06191566]\n",
      " [15.75807673]\n",
      " [13.25645238]\n",
      " [17.26277735]\n",
      " [15.87841883]\n",
      " [19.36163954]\n",
      " [13.81483897]\n",
      " [16.44881475]\n",
      " [13.57141932]\n",
      " [ 3.98885508]\n",
      " [14.59495478]\n",
      " [12.1488148 ]\n",
      " [ 8.72822362]\n",
      " [12.03585343]\n",
      " [15.82082058]\n",
      " [ 8.5149902 ]\n",
      " [ 9.71844139]\n",
      " [14.80451374]\n",
      " [20.83858153]\n",
      " [18.30101169]\n",
      " [20.12282558]\n",
      " [17.28601894]\n",
      " [22.36600228]\n",
      " [20.10375923]\n",
      " [13.62125891]\n",
      " [33.25982697]\n",
      " [29.03017268]\n",
      " [25.56752769]\n",
      " [32.70827666]\n",
      " [36.77467015]\n",
      " [40.55765844]\n",
      " [41.84728168]\n",
      " [24.78867379]\n",
      " [25.37889238]\n",
      " [37.20347455]\n",
      " [23.08748747]\n",
      " [26.40273955]\n",
      " [26.65382114]\n",
      " [22.5551466 ]\n",
      " [24.29082812]\n",
      " [22.97657219]\n",
      " [29.07194308]\n",
      " [26.5219434 ]\n",
      " [30.72209056]\n",
      " [25.61669307]\n",
      " [29.13740979]\n",
      " [31.43571968]\n",
      " [32.92231568]\n",
      " [34.72440464]\n",
      " [27.76552111]\n",
      " [33.88787321]\n",
      " [30.99238036]\n",
      " [22.71820008]\n",
      " [24.7664781 ]\n",
      " [35.88497226]\n",
      " [33.42476722]\n",
      " [32.41199147]\n",
      " [34.51509949]\n",
      " [30.76109485]\n",
      " [30.28934141]\n",
      " [32.91918714]\n",
      " [32.11260771]\n",
      " [31.55871004]\n",
      " [40.84555721]\n",
      " [36.12770079]\n",
      " [32.6692081 ]\n",
      " [34.70469116]\n",
      " [30.09345162]\n",
      " [30.64393906]\n",
      " [29.28719501]\n",
      " [37.07148392]\n",
      " [42.03193124]\n",
      " [43.18949844]\n",
      " [22.69034796]\n",
      " [23.68284712]\n",
      " [17.85447214]\n",
      " [23.49428992]\n",
      " [17.00587718]\n",
      " [22.39251096]\n",
      " [17.06042754]\n",
      " [22.73892921]\n",
      " [25.21942554]\n",
      " [11.11916737]\n",
      " [24.51049148]\n",
      " [26.60334775]\n",
      " [28.35518713]\n",
      " [24.91525464]\n",
      " [29.68652768]\n",
      " [33.18419746]\n",
      " [23.77456656]\n",
      " [32.14051958]\n",
      " [29.7458199 ]\n",
      " [38.37102453]\n",
      " [39.81461867]\n",
      " [37.58605755]\n",
      " [32.3995325 ]\n",
      " [35.45665242]\n",
      " [31.23411512]\n",
      " [24.48449227]\n",
      " [33.28837292]\n",
      " [38.0481048 ]\n",
      " [37.16328631]\n",
      " [31.71383523]\n",
      " [25.26705571]\n",
      " [30.10010745]\n",
      " [32.71987156]\n",
      " [28.42717057]\n",
      " [28.42940678]\n",
      " [27.29375938]\n",
      " [23.74262478]\n",
      " [24.12007891]\n",
      " [27.40208414]\n",
      " [16.3285756 ]\n",
      " [13.39891261]\n",
      " [20.01638775]\n",
      " [19.86184428]\n",
      " [21.2883131 ]\n",
      " [24.0798915 ]\n",
      " [24.20633547]\n",
      " [25.04215821]\n",
      " [24.91964007]\n",
      " [29.94563374]\n",
      " [23.97228316]\n",
      " [21.69580887]\n",
      " [37.51109239]\n",
      " [43.30239043]\n",
      " [36.48361421]\n",
      " [34.98988594]\n",
      " [34.81211508]\n",
      " [37.16631331]\n",
      " [40.98928501]\n",
      " [34.44634089]\n",
      " [35.83397547]\n",
      " [28.245743  ]\n",
      " [31.22673593]\n",
      " [40.8395575 ]\n",
      " [39.31792393]\n",
      " [25.70817905]\n",
      " [22.30295533]\n",
      " [27.20340972]\n",
      " [28.51169472]\n",
      " [35.47676598]\n",
      " [36.10639164]\n",
      " [33.79668274]\n",
      " [35.61085858]\n",
      " [34.83993382]\n",
      " [30.35192656]\n",
      " [35.30980701]\n",
      " [38.79756966]\n",
      " [34.33123186]\n",
      " [40.33963075]\n",
      " [44.67308339]\n",
      " [31.59689086]\n",
      " [27.3565923 ]\n",
      " [20.10174154]\n",
      " [27.04206674]\n",
      " [27.2136458 ]\n",
      " [26.91395839]\n",
      " [33.43563311]\n",
      " [34.40349633]\n",
      " [31.8333982 ]\n",
      " [25.81783237]\n",
      " [24.42982348]\n",
      " [28.45764337]\n",
      " [27.36266999]\n",
      " [19.53928758]\n",
      " [29.11309844]\n",
      " [31.91054611]\n",
      " [30.77159449]\n",
      " [28.94275871]\n",
      " [28.88191022]\n",
      " [32.79887232]\n",
      " [33.20905456]\n",
      " [30.76831792]\n",
      " [35.56226857]\n",
      " [32.70905124]\n",
      " [28.64244237]\n",
      " [23.58965827]\n",
      " [18.54266897]\n",
      " [26.87889843]\n",
      " [23.28133979]\n",
      " [25.54580246]\n",
      " [25.48120057]\n",
      " [20.53909901]\n",
      " [17.61572573]\n",
      " [18.37581686]\n",
      " [24.29070277]\n",
      " [21.32529039]\n",
      " [24.88682244]\n",
      " [24.86937282]\n",
      " [22.86952447]\n",
      " [19.45123791]\n",
      " [25.11783401]\n",
      " [24.66786913]\n",
      " [23.68076177]\n",
      " [19.34089616]\n",
      " [21.17418105]\n",
      " [24.25249073]\n",
      " [21.59260894]\n",
      " [19.98446605]\n",
      " [23.33888   ]\n",
      " [22.14060692]\n",
      " [21.55509929]\n",
      " [20.61872907]\n",
      " [20.16097176]\n",
      " [19.28490387]\n",
      " [22.1667232 ]\n",
      " [21.24965774]\n",
      " [21.42939305]\n",
      " [30.32788796]\n",
      " [22.04734975]\n",
      " [27.70647912]\n",
      " [28.54794117]\n",
      " [16.54501121]\n",
      " [14.78359641]\n",
      " [25.27380082]\n",
      " [27.54205117]\n",
      " [22.14837562]\n",
      " [20.45944095]\n",
      " [20.54605423]\n",
      " [16.88063827]\n",
      " [25.40253506]\n",
      " [14.32486632]\n",
      " [16.59488462]\n",
      " [19.63704691]\n",
      " [22.71806607]\n",
      " [22.20218887]\n",
      " [19.20548057]\n",
      " [22.66616105]\n",
      " [18.93192618]\n",
      " [18.22846804]\n",
      " [20.23150811]\n",
      " [37.4944739 ]\n",
      " [14.28190734]\n",
      " [15.54286248]\n",
      " [10.83162324]\n",
      " [23.80072902]\n",
      " [32.6440736 ]\n",
      " [34.60684042]\n",
      " [24.94331333]\n",
      " [25.9998091 ]\n",
      " [ 6.126325  ]\n",
      " [ 0.77779806]\n",
      " [25.30713064]\n",
      " [17.74061065]\n",
      " [20.23274414]\n",
      " [15.83331301]\n",
      " [16.83512587]\n",
      " [14.36994825]\n",
      " [18.47682833]\n",
      " [13.4276828 ]\n",
      " [13.06177512]\n",
      " [ 3.27918116]\n",
      " [ 8.06022171]\n",
      " [ 6.12842196]\n",
      " [ 5.6186481 ]\n",
      " [ 6.4519857 ]\n",
      " [14.20764735]\n",
      " [17.21225183]\n",
      " [17.29887265]\n",
      " [ 9.89116643]\n",
      " [20.22124193]\n",
      " [17.94181175]\n",
      " [20.30445783]\n",
      " [19.29559075]\n",
      " [16.33632779]\n",
      " [ 6.55162319]\n",
      " [10.89016778]\n",
      " [11.88145871]\n",
      " [17.81174507]\n",
      " [18.26126587]\n",
      " [12.97948781]\n",
      " [ 7.37816361]\n",
      " [ 8.21115861]\n",
      " [ 8.06626193]\n",
      " [19.98294786]\n",
      " [13.70756369]\n",
      " [19.85268454]\n",
      " [15.22308298]\n",
      " [16.96071981]\n",
      " [ 1.71851807]\n",
      " [11.80578387]\n",
      " [-4.28131071]\n",
      " [ 9.58376737]\n",
      " [13.36660811]\n",
      " [ 6.89562363]\n",
      " [ 6.14779852]\n",
      " [14.60661794]\n",
      " [19.6000267 ]\n",
      " [18.12427476]\n",
      " [18.52177132]\n",
      " [13.1752861 ]\n",
      " [14.62617624]\n",
      " [ 9.92374976]\n",
      " [16.34590647]\n",
      " [14.07519426]\n",
      " [14.25756243]\n",
      " [13.04234787]\n",
      " [18.15955693]\n",
      " [18.69554354]\n",
      " [21.527283  ]\n",
      " [17.03141861]\n",
      " [15.96090435]\n",
      " [13.36141611]\n",
      " [14.52079384]\n",
      " [ 8.81976005]\n",
      " [ 4.86751102]\n",
      " [13.06591313]\n",
      " [12.70609699]\n",
      " [17.29558059]\n",
      " [18.740485  ]\n",
      " [18.05901029]\n",
      " [11.51474683]\n",
      " [11.97400359]\n",
      " [17.68344618]\n",
      " [18.12695239]\n",
      " [17.5183465 ]\n",
      " [17.22742507]\n",
      " [16.52271631]\n",
      " [19.41291095]\n",
      " [18.58215236]\n",
      " [22.48944791]\n",
      " [15.28000133]\n",
      " [15.82089335]\n",
      " [12.68725581]\n",
      " [12.8763379 ]\n",
      " [17.18668531]\n",
      " [18.51247609]\n",
      " [19.04860533]\n",
      " [20.17208927]\n",
      " [19.7740732 ]\n",
      " [22.42940768]\n",
      " [20.31911854]\n",
      " [17.88616253]\n",
      " [14.37478523]\n",
      " [16.94776851]\n",
      " [16.98405762]\n",
      " [18.58838397]\n",
      " [20.16719441]\n",
      " [22.97718032]\n",
      " [22.45580726]\n",
      " [25.57824627]\n",
      " [16.39147632]\n",
      " [16.1114628 ]\n",
      " [20.534816  ]\n",
      " [11.54272738]\n",
      " [19.20496304]\n",
      " [21.86276391]\n",
      " [23.46878866]\n",
      " [27.09887315]\n",
      " [28.56994302]\n",
      " [21.08398783]\n",
      " [19.45516196]\n",
      " [22.22225914]\n",
      " [19.65591961]\n",
      " [21.32536104]\n",
      " [11.85583717]\n",
      " [ 8.22386687]\n",
      " [ 3.66399672]\n",
      " [13.75908538]\n",
      " [15.93118545]\n",
      " [20.62662054]\n",
      " [20.61249414]\n",
      " [16.88541964]\n",
      " [14.01320787]\n",
      " [19.10854144]\n",
      " [21.29805174]\n",
      " [18.45498841]\n",
      " [20.46870847]\n",
      " [23.53334055]\n",
      " [22.37571892]\n",
      " [27.6274261 ]\n",
      " [26.12796681]\n",
      " [22.34421229]]\n"
     ]
    }
   ],
   "source": [
    "#valeur prédite\n",
    "\n",
    "print(Yp)\n"
   ]
  },
  {
   "cell_type": "markdown",
   "metadata": {},
   "source": [
    "# QUESTIONS 3: l’erreur au sens des moindres carrés du régresseur appris sur l’ensemble du jeu de données Boston.\n"
   ]
  },
  {
   "cell_type": "code",
   "execution_count": 112,
   "metadata": {},
   "outputs": [
    {
     "name": "stdout",
     "output_type": "stream",
     "text": [
      "l’erreur au sens des moindres carrés du régresseur appris sur l’ensemble du jeu de données Boston est: 0    11078.784578\n",
      "dtype: float64\n"
     ]
    }
   ],
   "source": [
    "#calcul de l'erreur\n",
    "def erreur(Y, Yp):\n",
    "    print(\"l’erreur au sens des moindres carrés du régresseur appris sur l’ensemble du jeu de données Boston est:\", np.sum((Y - Yp)**2))\n",
    "erreur(y,Yp)"
   ]
  },
  {
   "cell_type": "markdown",
   "metadata": {},
   "source": [
    "# QUESTION 4"
   ]
  },
  {
   "cell_type": "markdown",
   "metadata": {},
   "source": [
    "#  4 a :Programmez une fonction ridge_regression(X, Y , lambda) qui renvoie l’estimateur des moindre carrés généralisés."
   ]
  },
  {
   "cell_type": "code",
   "execution_count": 113,
   "metadata": {},
   "outputs": [],
   "source": [
    "from sklearn.linear_model import Ridge\n",
    "# Programmons la régression ridge\n",
    "def ridge_regression(X, Y, alpha):\n",
    "    return np.dot(np.dot(np.linalg.pinv (np.dot (X.T, X) + alpha), X.T), Y)\n"
   ]
  },
  {
   "cell_type": "code",
   "execution_count": 114,
   "metadata": {},
   "outputs": [
    {
     "name": "stdout",
     "output_type": "stream",
     "text": [
      "[[1. 0. 0. 0. 0. 0. 0. 0. 0. 0. 0. 0. 0. 0.]\n",
      " [0. 1. 0. 0. 0. 0. 0. 0. 0. 0. 0. 0. 0. 0.]\n",
      " [0. 0. 1. 0. 0. 0. 0. 0. 0. 0. 0. 0. 0. 0.]\n",
      " [0. 0. 0. 1. 0. 0. 0. 0. 0. 0. 0. 0. 0. 0.]\n",
      " [0. 0. 0. 0. 1. 0. 0. 0. 0. 0. 0. 0. 0. 0.]\n",
      " [0. 0. 0. 0. 0. 1. 0. 0. 0. 0. 0. 0. 0. 0.]\n",
      " [0. 0. 0. 0. 0. 0. 1. 0. 0. 0. 0. 0. 0. 0.]\n",
      " [0. 0. 0. 0. 0. 0. 0. 1. 0. 0. 0. 0. 0. 0.]\n",
      " [0. 0. 0. 0. 0. 0. 0. 0. 1. 0. 0. 0. 0. 0.]\n",
      " [0. 0. 0. 0. 0. 0. 0. 0. 0. 1. 0. 0. 0. 0.]\n",
      " [0. 0. 0. 0. 0. 0. 0. 0. 0. 0. 1. 0. 0. 0.]\n",
      " [0. 0. 0. 0. 0. 0. 0. 0. 0. 0. 0. 1. 0. 0.]\n",
      " [0. 0. 0. 0. 0. 0. 0. 0. 0. 0. 0. 0. 1. 0.]\n",
      " [0. 0. 0. 0. 0. 0. 0. 0. 0. 0. 0. 0. 0. 1.]]\n"
     ]
    }
   ],
   "source": [
    "alpha = np.identity(x.shape[1])# matrice identité\n",
    "print(alpha)"
   ]
  },
  {
   "cell_type": "code",
   "execution_count": 115,
   "metadata": {},
   "outputs": [
    {
     "data": {
      "text/plain": [
       "array([[-9.86048066e-02],\n",
       "       [ 4.82554320e-02],\n",
       "       [-8.77533496e-03],\n",
       "       [ 2.65452916e+00],\n",
       "       [-6.28879951e+00],\n",
       "       [ 4.86927445e+00],\n",
       "       [-6.65674913e-03],\n",
       "       [-1.16424615e+00],\n",
       "       [ 2.30512930e-01],\n",
       "       [-1.12443314e-02],\n",
       "       [-6.30840387e-01],\n",
       "       [ 1.22963608e-02],\n",
       "       [-4.77294333e-01],\n",
       "       [ 1.56705427e+01]])"
      ]
     },
     "execution_count": 115,
     "metadata": {},
     "output_type": "execute_result"
    }
   ],
   "source": [
    "ridge_regression(x, y, alpha) # Application de la fonction ridge_regression sur (x, y, alpha)"
   ]
  },
  {
   "cell_type": "markdown",
   "metadata": {},
   "source": [
    " Recuperation des coefficients alpha et beta"
   ]
  },
  {
   "cell_type": "code",
   "execution_count": 116,
   "metadata": {},
   "outputs": [
    {
     "name": "stdout",
     "output_type": "stream",
     "text": [
      "[[1. 0. 0. 0. 0. 0. 0. 0. 0. 0. 0. 0. 0. 0.]\n",
      " [0. 1. 0. 0. 0. 0. 0. 0. 0. 0. 0. 0. 0. 0.]\n",
      " [0. 0. 1. 0. 0. 0. 0. 0. 0. 0. 0. 0. 0. 0.]\n",
      " [0. 0. 0. 1. 0. 0. 0. 0. 0. 0. 0. 0. 0. 0.]\n",
      " [0. 0. 0. 0. 1. 0. 0. 0. 0. 0. 0. 0. 0. 0.]\n",
      " [0. 0. 0. 0. 0. 1. 0. 0. 0. 0. 0. 0. 0. 0.]\n",
      " [0. 0. 0. 0. 0. 0. 1. 0. 0. 0. 0. 0. 0. 0.]\n",
      " [0. 0. 0. 0. 0. 0. 0. 1. 0. 0. 0. 0. 0. 0.]\n",
      " [0. 0. 0. 0. 0. 0. 0. 0. 1. 0. 0. 0. 0. 0.]\n",
      " [0. 0. 0. 0. 0. 0. 0. 0. 0. 1. 0. 0. 0. 0.]\n",
      " [0. 0. 0. 0. 0. 0. 0. 0. 0. 0. 1. 0. 0. 0.]\n",
      " [0. 0. 0. 0. 0. 0. 0. 0. 0. 0. 0. 1. 0. 0.]\n",
      " [0. 0. 0. 0. 0. 0. 0. 0. 0. 0. 0. 0. 1. 0.]\n",
      " [0. 0. 0. 0. 0. 0. 0. 0. 0. 0. 0. 0. 0. 1.]]\n",
      "\n",
      "\n",
      "[15.67054271]\n"
     ]
    }
   ],
   "source": [
    "#valeur de alpha et beta\n",
    "alpha_ = ridge_regression(x, y, alpha)[0:-1]\n",
    "beta = ridge_regression(x, y, alpha)[-1]\n",
    "print(alpha)\n",
    "print(\"\\n\")\n",
    "print(beta)"
   ]
  },
  {
   "cell_type": "markdown",
   "metadata": {},
   "source": [
    "# Ridge avec coef_ et intercept_"
   ]
  },
  {
   "cell_type": "code",
   "execution_count": 117,
   "metadata": {},
   "outputs": [
    {
     "name": "stdout",
     "output_type": "stream",
     "text": [
      "[[-1.04595278e-01  4.74432243e-02 -8.80467889e-03  2.55239322e+00\n",
      "  -1.07770146e+01  3.85400020e+00 -5.41453810e-03 -1.37265353e+00\n",
      "   2.90141589e-01 -1.29116463e-02 -8.76074394e-01  9.67327945e-03\n",
      "  -5.33343225e-01  0.00000000e+00]]\n",
      "[31.59766982]\n"
     ]
    }
   ],
   "source": [
    "from sklearn.linear_model import Ridge\n",
    "ridge= Ridge(alpha = 1).fit(x,y)\n",
    "\n",
    "print(ridge.coef_)\n",
    "print(ridge.intercept_)"
   ]
  },
  {
   "cell_type": "markdown",
   "metadata": {},
   "source": [
    "\n",
    "Comparons à nouveau les vecteurs αˆ et βˆ obtenus pour le paramètre lambda = 1 sur le jeu de données Boston avec les attributs coef_ et intercept_ d’un\n",
    "régresseur de type linear_model.Ridge\n",
    "\n"
   ]
  },
  {
   "cell_type": "markdown",
   "metadata": {},
   "source": [
    "# cette fois ci apres comparaison on'a constaté que ridge.coef_ different de alpha et ridge.intercept_ different de beta"
   ]
  },
  {
   "cell_type": "markdown",
   "metadata": {},
   "source": [
    "# 4 b:Tracons l’évolution des coefficients du vecteur αˆ en fonction du paramètre de régularisation lambda"
   ]
  },
  {
   "cell_type": "code",
   "execution_count": 118,
   "metadata": {},
   "outputs": [],
   "source": [
    "y = np.array(y).reshape(y.shape[0],) # redimensionnement de y pour avoir une bonne compatibilité dans le plot.\n"
   ]
  },
  {
   "cell_type": "code",
   "execution_count": 119,
   "metadata": {},
   "outputs": [
    {
     "data": {
      "image/png": "[encoded data removed]",
      "text/plain": [
       "<Figure size 864x360 with 1 Axes>"
      ]
     },
     "metadata": {
      "needs_background": "light"
     },
     "output_type": "display_data"
    }
   ],
   "source": [
    "# EVOLUTIONS  des coefficients du vecteur αˆ en fonction du paramètre de régularisation lambda pour des valeurs entre 0.001 et 1000.\n",
    "lambdas=np.linspace(0.001,1000,1000)\n",
    "coefs=[]\n",
    "for a in lambdas:\n",
    "        ridge=linear_model.Ridge(normalize=False, alpha=a)\n",
    "        ridge.fit(x,y)\n",
    "        coefs.append(ridge.coef_)\n",
    "        \n",
    "plt.figure(figsize=(12,5))\n",
    "plt.plot(lambdas,coefs)\n",
    "plt.xlabel('lambda')\n",
    "plt.ylabel('alpha')\n",
    "plt.legend(boston.feature_names,loc=\"lower right\")\n",
    "plt.show()"
   ]
  },
  {
   "cell_type": "markdown",
   "metadata": {},
   "source": [
    "# d'apres la courbe la variable RM semble mieux expliquée le prix des maisons à boston"
   ]
  },
  {
   "cell_type": "code",
   "execution_count": null,
   "metadata": {},
   "outputs": [],
   "source": []
  },
  {
   "cell_type": "code",
   "execution_count": null,
   "metadata": {},
   "outputs": [],
   "source": []
  },
  {
   "cell_type": "markdown",
   "metadata": {},
   "source": [
    "# 4 c:Trouvons par un moyen approprié la meilleure valeur pour le paramètre lambda"
   ]
  },
  {
   "cell_type": "code",
   "execution_count": 120,
   "metadata": {},
   "outputs": [],
   "source": [
    "from sklearn.linear_model import Ridge\n",
    "from sklearn.metrics import mean_squared_error"
   ]
  },
  {
   "cell_type": "code",
   "execution_count": 121,
   "metadata": {},
   "outputs": [
    {
     "name": "stdout",
     "output_type": "stream",
     "text": [
      "Alpha:0.000001, R2:0.741, MSE:21.89, RMSE:4.68\n",
      "Alpha:0.000010, R2:0.741, MSE:21.89, RMSE:4.68\n",
      "Alpha:0.000100, R2:0.741, MSE:21.89, RMSE:4.68\n",
      "Alpha:0.001000, R2:0.741, MSE:21.90, RMSE:4.68\n",
      "Alpha:0.010000, R2:0.740, MSE:21.92, RMSE:4.68\n",
      "Alpha:0.100000, R2:0.732, MSE:22.66, RMSE:4.76\n",
      "Alpha:0.500000, R2:0.686, MSE:26.48, RMSE:5.15\n",
      "Alpha:1.000000, R2:0.635, MSE:30.81, RMSE:5.55\n"
     ]
    }
   ],
   "source": [
    "alphas = [0.000001, 0.00001, 0.0001, 0.001, 0.01, 0.1,0.5, 1]\n",
    "for a in alphas:\n",
    "        model = Ridge(alpha=a, normalize=True).fit(x,y) \n",
    "        score = model.score(x, y)\n",
    "        pred_y = model.predict(x)\n",
    "        mse = mean_squared_error(y, pred_y) \n",
    "        print(\"Alpha:{0:.6f}, R2:{1:.3f}, MSE:{2:.2f}, RMSE:{3:.2f}\".format(a, score, mse, np.sqrt(mse)))"
   ]
  },
  {
   "cell_type": "markdown",
   "metadata": {},
   "source": [
    "# le meilleure alpha est celui qui a le plus grand  MSE il correspond à 0.01"
   ]
  },
  {
   "cell_type": "markdown",
   "metadata": {},
   "source": [
    "ici le meilleure alpha  correspond à 0.01 qui donne le resultat Alpha:0.010000, R2:0.740, MSE:21.92, RMSE:4.68"
   ]
  },
  {
   "cell_type": "code",
   "execution_count": 122,
   "metadata": {},
   "outputs": [],
   "source": [
    "# Apprennons  ensuite un régresseur avec cette valeur sur l’ensemble du jeu de données Boston et calculez\n",
    "#l’erreur au sens des moindres carrés sur ce même échantillon.\n"
   ]
  },
  {
   "cell_type": "code",
   "execution_count": 139,
   "metadata": {},
   "outputs": [
    {
     "name": "stdout",
     "output_type": "stream",
     "text": [
      "  R2 :0.683, MSE:21.92, RMSE:4.68\n"
     ]
    }
   ],
   "source": [
    "ridge_mod=Ridge(alpha=0.01, normalize=True).fit(x,y)\n",
    "ypred = ridge_mod.predict(x) # yp valeur predite\n",
    "score = model.score(x,y)# SCORE\n",
    "mse = mean_squared_error(y,ypred)# l'erreur \n",
    "print(\"  R2 :{0:.3f}, MSE:{1:.2f}, RMSE:{2:.2f}\".format(score, mse,np.sqrt(mse)))\n",
    "# l'erreur  obtenu est RMSE=4.68 "
   ]
  },
  {
   "cell_type": "markdown",
   "metadata": {},
   "source": [
    "# l'erreur  obtenu est RMSE=4.68 "
   ]
  },
  {
   "cell_type": "markdown",
   "metadata": {},
   "source": [
    "# 5:REGRESSION LASSO"
   ]
  },
  {
   "cell_type": "markdown",
   "metadata": {},
   "source": [
    "C’est une régression linéaire avec une contrainte linéaire sur les coefficients.\n",
    "C’est utile lorsque les variables sont très corrélées, ce qui fausse souvent la résolution numérique.\n",
    "La solution ne s’exprime de façon exacte et la résolution utilise une méthode à base de gradient"
   ]
  },
  {
   "cell_type": "markdown",
   "metadata": {},
   "source": [
    "#  5 a:En utilisant la classe linear_model.Lasso, tracez l’évolution des coefficients du vecteur αˆ en fonction de la valeur du paramètre lambda."
   ]
  },
  {
   "cell_type": "code",
   "execution_count": 133,
   "metadata": {},
   "outputs": [
    {
     "data": {
      "image/png": "[encoded data removed]",
      "text/plain": [
       "<Figure size 864x360 with 1 Axes>"
      ]
     },
     "metadata": {
      "needs_background": "light"
     },
     "output_type": "display_data"
    }
   ],
   "source": [
    "from sklearn.linear_model import Lasso\n",
    "lambdas=np.linspace(0.001,1000,1000)\n",
    "coefs=[]\n",
    "for a in lambdas:\n",
    "        las=linear_model.Lasso(normalize=False, alpha=a)\n",
    "        las.fit(x,y)\n",
    "        coefs.append(las.coef_)\n",
    "        \n",
    "plt.figure(figsize=(12,5))\n",
    "plt.plot(lambdas,coefs)\n",
    "plt.xlabel('lambda')\n",
    "plt.ylabel('alpha')\n",
    "plt.legend(boston.feature_names,loc=\"lower right\")\n",
    "plt.show()\n"
   ]
  },
  {
   "cell_type": "markdown",
   "metadata": {},
   "source": [
    "Quelles variables semblent le mieux expliquer le prix des maisons à Boston ?"
   ]
  },
  {
   "cell_type": "markdown",
   "metadata": {},
   "source": [
    "# la variable RM semble mieux expliquée le prix des maisons à boston oui elle confirme ce qu' on avait dit sur la question precedente"
   ]
  },
  {
   "cell_type": "code",
   "execution_count": null,
   "metadata": {},
   "outputs": [],
   "source": []
  },
  {
   "cell_type": "code",
   "execution_count": null,
   "metadata": {},
   "outputs": [],
   "source": []
  },
  {
   "cell_type": "markdown",
   "metadata": {},
   "source": [
    "# La régression Lasso annule les coefficients, voire tous les coefficients si le paramètre alpha est assez grand."
   ]
  },
  {
   "cell_type": "code",
   "execution_count": null,
   "metadata": {},
   "outputs": [],
   "source": []
  },
  {
   "cell_type": "code",
   "execution_count": null,
   "metadata": {},
   "outputs": [],
   "source": []
  },
  {
   "cell_type": "markdown",
   "metadata": {},
   "source": [
    "\n",
    " # 5 b:Trouvons par un moyen approprié la meilleure valeur pour le paramètre lambda. "
   ]
  },
  {
   "cell_type": "code",
   "execution_count": 413,
   "metadata": {},
   "outputs": [
    {
     "name": "stdout",
     "output_type": "stream",
     "text": [
      "Alpha:0.100000, R2:0.583, MSE:35.22, RMSE:5.93\n",
      "Alpha:0.300000, R2:0.005, MSE:84.02, RMSE:9.17\n",
      "Alpha:0.500000, R2:0.000, MSE:84.42, RMSE:9.19\n",
      "Alpha:0.800000, R2:0.000, MSE:84.42, RMSE:9.19\n",
      "Alpha:1.000000, R2:0.000, MSE:84.42, RMSE:9.19\n"
     ]
    }
   ],
   "source": [
    "alphas = [0.1,0.3, 0.5, 0.8, 1]\n",
    "for a in alphas:\n",
    "        model = Lasso(alpha=a, normalize=True).fit(x,y) \n",
    "        score = model.score(x, y)\n",
    "        pred_y = model.predict(x)\n",
    "        mse = mean_squared_error(y, pred_y) \n",
    "        print(\"Alpha:{0:.6f}, R2:{1:.3f}, MSE:{2:.2f}, RMSE:{3:.2f}\".format(a, score, mse, np.sqrt(mse)))"
   ]
  },
  {
   "cell_type": "markdown",
   "metadata": {},
   "source": [
    "# Notre best alpha est 1 qui correspond au resultat Alpha:1.000000, R2:0.000, MSE:84.42, RMSE:9.19"
   ]
  },
  {
   "cell_type": "markdown",
   "metadata": {},
   "source": [
    " Apprenons\n",
    "ensuite un régresseur avec cette valeur sur l’ensemble du jeu de données Boston et calculez\n",
    "l’erreur au sens des moindres carrés sur ce même échantillon."
   ]
  },
  {
   "cell_type": "code",
   "execution_count": 138,
   "metadata": {},
   "outputs": [
    {
     "name": "stdout",
     "output_type": "stream",
     "text": [
      "Alpha:1.00, R2:0.68, MSE:26.80, RMSE:5.18\n"
     ]
    }
   ],
   "source": [
    "model=Lasso(alpha=1).fit(x, y)# le modele\n",
    "score = model.score(x, y)\n",
    "ypred = model.predict(x) # prediction \n",
    "mse = mean_squared_error(y, ypred) # l'erreur \n",
    "print(\"Alpha:{0:.2f}, R2:{1:.2f}, MSE:{2:.2f}, RMSE:{3:.2f}\".format(model.alpha, score, mse, np.sqrt(mse)))\n",
    "# l'erreur obtenu est :RMSE=5.18"
   ]
  },
  {
   "cell_type": "markdown",
   "metadata": {},
   "source": [
    "# l'erreur obtenu est :RMSE=5.18"
   ]
  },
  {
   "cell_type": "code",
   "execution_count": null,
   "metadata": {},
   "outputs": [],
   "source": []
  }
 ],
 "metadata": {
  "kernelspec": {
   "display_name": "Python 3",
   "language": "python",
   "name": "python3"
  },
  "language_info": {
   "codemirror_mode": {
    "name": "ipython",
    "version": 3
   },
   "file_extension": ".py",
   "mimetype": "text/x-python",
   "name": "python",
   "nbconvert_exporter": "python",
   "pygments_lexer": "ipython3",
   "version": "3.8.5"
  }
 },
 "nbformat": 4,
 "nbformat_minor": 5
}
